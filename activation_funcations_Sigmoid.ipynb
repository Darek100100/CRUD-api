{
  "nbformat": 4,
  "nbformat_minor": 0,
  "metadata": {
    "colab": {
      "provenance": [],
      "authorship_tag": "ABX9TyMi4xbdVrNl8Q22BI3akb7s",
      "include_colab_link": true
    },
    "kernelspec": {
      "name": "python3",
      "display_name": "Python 3"
    },
    "language_info": {
      "name": "python"
    }
  },
  "cells": [
    {
      "cell_type": "markdown",
      "metadata": {
        "id": "view-in-github",
        "colab_type": "text"
      },
      "source": [
        "<a href=\"https://colab.research.google.com/github/Darek100100/CRUD-api/blob/master/activation_funcations_Sigmoid.ipynb\" target=\"_parent\"><img src=\"https://colab.research.google.com/assets/colab-badge.svg\" alt=\"Open In Colab\"/></a>"
      ]
    },
    {
      "cell_type": "code",
      "execution_count": null,
      "metadata": {
        "id": "2tAYrtYXZMGo"
      },
      "outputs": [],
      "source": []
    },
    {
      "cell_type": "markdown",
      "source": [
        "## Funkcje Aktywacji\n",
        "### ReLU Function\n",
        "$f(x) = max (x,0)$"
      ],
      "metadata": {
        "id": "xVrHWn8iii8f"
      }
    },
    {
      "cell_type": "code",
      "source": [
        "import numpy as np\n",
        "import matplotlib.pyplot as plt\n",
        "import seaborn as sns\n",
        "sns.set()\n"
      ],
      "metadata": {
        "id": "1bChRSUFi4eD"
      },
      "execution_count": null,
      "outputs": []
    },
    {
      "cell_type": "code",
      "source": [
        "def max_relu(x):\n",
        "  return max(x, 0)"
      ],
      "metadata": {
        "id": "MngT_l7IjYwS"
      },
      "execution_count": null,
      "outputs": []
    },
    {
      "cell_type": "code",
      "source": [
        "for i in[-10, -5, 0, 5, 10]:\n",
        "  print(max_relu(i))"
      ],
      "metadata": {
        "colab": {
          "base_uri": "https://localhost:8080/"
        },
        "id": "7su5AcuwkDHn",
        "outputId": "0a169be6-8f6a-4985-b38f-1ec954921dfc"
      },
      "execution_count": null,
      "outputs": [
        {
          "output_type": "stream",
          "name": "stdout",
          "text": [
            "0\n",
            "0\n",
            "0\n",
            "5\n",
            "10\n"
          ]
        }
      ]
    },
    {
      "cell_type": "code",
      "source": [
        "data = np.arange(-5, 5, 0.1)\n",
        "max_relu_data = [max_relu(x) for x in data]\n",
        "\n",
        "plt.plot(data, max_relu_data)\n",
        "plt.title('ReLU Function')"
      ],
      "metadata": {
        "colab": {
          "base_uri": "https://localhost:8080/",
          "height": 474
        },
        "id": "fOx4s9kikTJf",
        "outputId": "cfcf6399-1b08-45e0-851a-d4a894f89449"
      },
      "execution_count": null,
      "outputs": [
        {
          "output_type": "execute_result",
          "data": {
            "text/plain": [
              "Text(0.5, 1.0, 'ReLU Function')"
            ]
          },
          "metadata": {},
          "execution_count": 18
        },
        {
          "output_type": "display_data",
          "data": {
            "text/plain": [
              "<Figure size 640x480 with 1 Axes>"
            ],
            "image/png": "[encoded data removed]"
          },
          "metadata": {}
        }
      ]
    },
    {
      "cell_type": "code",
      "source": [
        "max_relu_data"
      ],
      "metadata": {
        "colab": {
          "base_uri": "https://localhost:8080/"
        },
        "id": "M5o-L564kf18",
        "outputId": "3b8f0836-906b-4bc3-aaa3-8c61b09d30ff"
      },
      "execution_count": null,
      "outputs": [
        {
          "output_type": "execute_result",
          "data": {
            "text/plain": [
              "[0,\n",
              " 0,\n",
              " 0,\n",
              " 0,\n",
              " 0,\n",
              " 0,\n",
              " 0,\n",
              " 0,\n",
              " 0,\n",
              " 0,\n",
              " 0,\n",
              " 0,\n",
              " 0,\n",
              " 0,\n",
              " 0,\n",
              " 0,\n",
              " 0,\n",
              " 0,\n",
              " 0,\n",
              " 0,\n",
              " 0,\n",
              " 0,\n",
              " 0,\n",
              " 0,\n",
              " 0,\n",
              " 0,\n",
              " 0,\n",
              " 0,\n",
              " 0,\n",
              " 0,\n",
              " 0,\n",
              " 0,\n",
              " 0,\n",
              " 0,\n",
              " 0,\n",
              " 0,\n",
              " 0,\n",
              " 0,\n",
              " 0,\n",
              " 0,\n",
              " 0,\n",
              " 0,\n",
              " 0,\n",
              " 0,\n",
              " 0,\n",
              " 0,\n",
              " 0,\n",
              " 0,\n",
              " 0,\n",
              " 0,\n",
              " 0,\n",
              " np.float64(0.09999999999998188),\n",
              " np.float64(0.19999999999998153),\n",
              " np.float64(0.29999999999998117),\n",
              " np.float64(0.3999999999999808),\n",
              " np.float64(0.49999999999998046),\n",
              " np.float64(0.5999999999999801),\n",
              " np.float64(0.6999999999999797),\n",
              " np.float64(0.7999999999999794),\n",
              " np.float64(0.899999999999979),\n",
              " np.float64(0.9999999999999787),\n",
              " np.float64(1.0999999999999783),\n",
              " np.float64(1.199999999999978),\n",
              " np.float64(1.2999999999999776),\n",
              " np.float64(1.3999999999999773),\n",
              " np.float64(1.499999999999977),\n",
              " np.float64(1.5999999999999766),\n",
              " np.float64(1.6999999999999762),\n",
              " np.float64(1.7999999999999758),\n",
              " np.float64(1.8999999999999755),\n",
              " np.float64(1.9999999999999751),\n",
              " np.float64(2.0999999999999748),\n",
              " np.float64(2.1999999999999744),\n",
              " np.float64(2.299999999999974),\n",
              " np.float64(2.3999999999999737),\n",
              " np.float64(2.4999999999999734),\n",
              " np.float64(2.599999999999973),\n",
              " np.float64(2.6999999999999726),\n",
              " np.float64(2.7999999999999723),\n",
              " np.float64(2.899999999999972),\n",
              " np.float64(2.9999999999999716),\n",
              " np.float64(3.0999999999999712),\n",
              " np.float64(3.199999999999971),\n",
              " np.float64(3.2999999999999705),\n",
              " np.float64(3.39999999999997),\n",
              " np.float64(3.49999999999997),\n",
              " np.float64(3.5999999999999694),\n",
              " np.float64(3.699999999999969),\n",
              " np.float64(3.7999999999999687),\n",
              " np.float64(3.8999999999999684),\n",
              " np.float64(3.999999999999968),\n",
              " np.float64(4.099999999999968),\n",
              " np.float64(4.199999999999967),\n",
              " np.float64(4.299999999999967),\n",
              " np.float64(4.399999999999967),\n",
              " np.float64(4.499999999999966),\n",
              " np.float64(4.599999999999966),\n",
              " np.float64(4.6999999999999655),\n",
              " np.float64(4.799999999999965),\n",
              " np.float64(4.899999999999965)]"
            ]
          },
          "metadata": {},
          "execution_count": 15
        }
      ]
    },
    {
      "cell_type": "markdown",
      "source": [
        "## Sigmoid Function\n",
        "\n",
        "### $f(x) = \\frac{1}{1+e^{-x}}$\n"
      ],
      "metadata": {
        "id": "J-wy6WnNt1Jl"
      }
    },
    {
      "cell_type": "code",
      "source": [
        "import numpy as np\n",
        "import matplotlib.pyplot as plt\n",
        "def sigmoid(x):\n",
        "  return 1.0 / (1 + np.exp(-x))"
      ],
      "metadata": {
        "id": "-m8r7ea-uF4k"
      },
      "execution_count": 21,
      "outputs": []
    },
    {
      "cell_type": "code",
      "source": [
        "for i in [-5, -3, -1, 0, 1, 3, 5]:\n",
        "  print(sigmoid(i))"
      ],
      "metadata": {
        "id": "QMsh-j32uwfw",
        "outputId": "83c591a7-9663-48f2-d3ce-16a92fe0a25e",
        "colab": {
          "base_uri": "https://localhost:8080/"
        }
      },
      "execution_count": 14,
      "outputs": [
        {
          "output_type": "stream",
          "name": "stdout",
          "text": [
            "0.0066928509242848554\n",
            "0.04742587317756678\n",
            "0.2689414213699951\n",
            "0.5\n",
            "0.7310585786300049\n",
            "0.9525741268224334\n",
            "0.9933071490757153\n"
          ]
        }
      ]
    },
    {
      "cell_type": "code",
      "source": [
        "data = np.arange(-5, 5, 0.1)\n"
      ],
      "metadata": {
        "id": "kTBPaPmcv3bg"
      },
      "execution_count": 17,
      "outputs": []
    },
    {
      "cell_type": "code",
      "source": [
        "data"
      ],
      "metadata": {
        "id": "gsAsuSYpv8nY",
        "outputId": "3d58e059-9dc7-4ad2-9f5b-584fc226378d",
        "colab": {
          "base_uri": "https://localhost:8080/"
        }
      },
      "execution_count": 19,
      "outputs": [
        {
          "output_type": "execute_result",
          "data": {
            "text/plain": [
              "array([-5.00000000e+00, -4.90000000e+00, -4.80000000e+00, -4.70000000e+00,\n",
              "       -4.60000000e+00, -4.50000000e+00, -4.40000000e+00, -4.30000000e+00,\n",
              "       -4.20000000e+00, -4.10000000e+00, -4.00000000e+00, -3.90000000e+00,\n",
              "       -3.80000000e+00, -3.70000000e+00, -3.60000000e+00, -3.50000000e+00,\n",
              "       -3.40000000e+00, -3.30000000e+00, -3.20000000e+00, -3.10000000e+00,\n",
              "       -3.00000000e+00, -2.90000000e+00, -2.80000000e+00, -2.70000000e+00,\n",
              "       -2.60000000e+00, -2.50000000e+00, -2.40000000e+00, -2.30000000e+00,\n",
              "       -2.20000000e+00, -2.10000000e+00, -2.00000000e+00, -1.90000000e+00,\n",
              "       -1.80000000e+00, -1.70000000e+00, -1.60000000e+00, -1.50000000e+00,\n",
              "       -1.40000000e+00, -1.30000000e+00, -1.20000000e+00, -1.10000000e+00,\n",
              "       -1.00000000e+00, -9.00000000e-01, -8.00000000e-01, -7.00000000e-01,\n",
              "       -6.00000000e-01, -5.00000000e-01, -4.00000000e-01, -3.00000000e-01,\n",
              "       -2.00000000e-01, -1.00000000e-01, -1.77635684e-14,  1.00000000e-01,\n",
              "        2.00000000e-01,  3.00000000e-01,  4.00000000e-01,  5.00000000e-01,\n",
              "        6.00000000e-01,  7.00000000e-01,  8.00000000e-01,  9.00000000e-01,\n",
              "        1.00000000e+00,  1.10000000e+00,  1.20000000e+00,  1.30000000e+00,\n",
              "        1.40000000e+00,  1.50000000e+00,  1.60000000e+00,  1.70000000e+00,\n",
              "        1.80000000e+00,  1.90000000e+00,  2.00000000e+00,  2.10000000e+00,\n",
              "        2.20000000e+00,  2.30000000e+00,  2.40000000e+00,  2.50000000e+00,\n",
              "        2.60000000e+00,  2.70000000e+00,  2.80000000e+00,  2.90000000e+00,\n",
              "        3.00000000e+00,  3.10000000e+00,  3.20000000e+00,  3.30000000e+00,\n",
              "        3.40000000e+00,  3.50000000e+00,  3.60000000e+00,  3.70000000e+00,\n",
              "        3.80000000e+00,  3.90000000e+00,  4.00000000e+00,  4.10000000e+00,\n",
              "        4.20000000e+00,  4.30000000e+00,  4.40000000e+00,  4.50000000e+00,\n",
              "        4.60000000e+00,  4.70000000e+00,  4.80000000e+00,  4.90000000e+00])"
            ]
          },
          "metadata": {},
          "execution_count": 19
        }
      ]
    },
    {
      "cell_type": "code",
      "source": [
        "sigmoid_data = [sigmoid(x) for x in data]\n",
        "\n",
        "plt.plot(data, sigmoid_data)\n",
        "plt.title('Sigmoid Function')"
      ],
      "metadata": {
        "id": "PBc4krLXwBca",
        "outputId": "947ac554-4456-41d0-d088-5ee0f6d13d12",
        "colab": {
          "base_uri": "https://localhost:8080/",
          "height": 469
        }
      },
      "execution_count": 22,
      "outputs": [
        {
          "output_type": "execute_result",
          "data": {
            "text/plain": [
              "Text(0.5, 1.0, 'Sigmoid Function')"
            ]
          },
          "metadata": {},
          "execution_count": 22
        },
        {
          "output_type": "display_data",
          "data": {
            "text/plain": [
              "<Figure size 640x480 with 1 Axes>"
            ],
            "image/png": "[encoded data removed]"
          },
          "metadata": {}
        }
      ]
    }
  ]
}